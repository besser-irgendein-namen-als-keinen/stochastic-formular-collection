{
 "metadata": {
  "language_info": {
   "codemirror_mode": {
    "name": "ipython",
    "version": 3
   },
   "file_extension": ".py",
   "mimetype": "text/x-python",
   "name": "python",
   "nbconvert_exporter": "python",
   "pygments_lexer": "ipython3",
   "version": "3.9.4"
  },
  "orig_nbformat": 2,
  "kernelspec": {
   "name": "python394jvsc74a57bd059807b9fbddb1d482b3aefa1419585fd0d723d3f3f15f9701e9b33b6839623f0",
   "display_name": "Python 3.9.4 64-bit"
  },
  "metadata": {
   "interpreter": {
    "hash": "59807b9fbddb1d482b3aefa1419585fd0d723d3f3f15f9701e9b33b6839623f0"
   }
  }
 },
 "nbformat": 4,
 "nbformat_minor": 2,
 "cells": [
  {
   "cell_type": "code",
   "execution_count": null,
   "metadata": {},
   "outputs": [],
   "source": [
    "import numpy as np\n",
    "from scipy import stats\n",
    "import matplotlib.pyplot as plt\n",
    "# Include KDEpy for Kernal Density Estimation\n",
    "\n",
    "stichprobe = [250, 330, 250, 350, 270, 300, 260, 330, 200, 400]\n",
    "stichprobe.sort()"
   ]
  },
  {
   "cell_type": "code",
   "execution_count": null,
   "metadata": {},
   "outputs": [],
   "source": [
    "# Mittelwert\n",
    "np.mean(stichprobe)"
   ]
  },
  {
   "cell_type": "code",
   "execution_count": null,
   "metadata": {},
   "outputs": [],
   "source": [
    "# Median\n",
    "np.median(stichprobe)"
   ]
  },
  {
   "cell_type": "code",
   "execution_count": null,
   "metadata": {},
   "outputs": [],
   "source": [
    "# Modalwert\n",
    "stats.mode(stichprobe)"
   ]
  },
  {
   "cell_type": "code",
   "execution_count": null,
   "metadata": {},
   "outputs": [],
   "source": [
    "# Standardabweichung\n",
    "np.std(stichprobe)"
   ]
  },
  {
   "cell_type": "code",
   "execution_count": null,
   "metadata": {},
   "outputs": [],
   "source": [
    "# Varianz\n",
    "np.var(stichprobe)"
   ]
  },
  {
   "cell_type": "code",
   "execution_count": null,
   "metadata": {},
   "outputs": [],
   "source": [
    "# Quantile (zwischen 0 und 1)\n",
    "quantile = 0.33\n",
    "np.quantile(stichprobe, quantile)"
   ]
  },
  {
   "cell_type": "code",
   "execution_count": null,
   "metadata": {},
   "outputs": [],
   "source": [
    "# Interquartilabstand\n",
    "np.subtract(*np.percentile(stichprobe, [75, 25]))\n",
    "# oder\n",
    "stats.iqr(stichprobe)"
   ]
  },
  {
   "cell_type": "code",
   "execution_count": null,
   "metadata": {},
   "outputs": [],
   "source": [
    "# Spannweite\n",
    "np.subtract(np.max(stichprobe), np.min(stichprobe))"
   ]
  },
  {
   "cell_type": "code",
   "execution_count": null,
   "metadata": {},
   "outputs": [],
   "source": [
    "# Relative Häufigkeit\n",
    "def rel_freq(x):\n",
    "    freqs = [(value, x.count(value) / len(x)) for value in set(x)] \n",
    "    return freqs\n",
    "\n",
    "rel_freq(stichprobe)"
   ]
  },
  {
   "cell_type": "code",
   "execution_count": null,
   "metadata": {},
   "outputs": [],
   "source": [
    "# Absolute Häufigkeit\n",
    "np.unique(stichprobe, return_counts=True)"
   ]
  }
 ]
}