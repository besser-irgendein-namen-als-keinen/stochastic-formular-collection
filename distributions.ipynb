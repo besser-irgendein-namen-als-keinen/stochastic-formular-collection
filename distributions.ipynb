{
 "metadata": {
  "language_info": {
   "codemirror_mode": {
    "name": "ipython",
    "version": 3
   },
   "file_extension": ".py",
   "mimetype": "text/x-python",
   "name": "python",
   "nbconvert_exporter": "python",
   "pygments_lexer": "ipython3",
   "version": "3.9.4"
  },
  "orig_nbformat": 2,
  "kernelspec": {
   "name": "python394jvsc74a57bd0aee8b7b246df8f9039afb4144a1f6fd8d2ca17a180786b69acc140d282b71a49",
   "display_name": "Python 3.9.4 64-bit"
  },
  "metadata": {
   "interpreter": {
    "hash": "aee8b7b246df8f9039afb4144a1f6fd8d2ca17a180786b69acc140d282b71a49"
   }
  }
 },
 "nbformat": 4,
 "nbformat_minor": 2,
 "cells": [
  {
   "cell_type": "code",
   "execution_count": 29,
   "metadata": {},
   "outputs": [],
   "source": [
    "import numpy as np\n",
    "import math\n",
    "import matplotlib.pyplot as plt\n",
    "from scipy.stats import hypergeom, poisson, geom, binom"
   ]
  },
  {
   "cell_type": "code",
   "execution_count": 123,
   "metadata": {},
   "outputs": [
    {
     "output_type": "stream",
     "name": "stdout",
     "text": [
      "exactly 5: 0.0584\n5 or fewer: 0.9803\nmore than 5: 0.0197\nErtwartungswert: 2.5\nVarianz: 1.875\n"
     ]
    }
   ],
   "source": [
    "## Binomialverteilung\n",
    "\n",
    "k = 3    # Häufigkeit für Ereigniseintritt\n",
    "n = 10   # Gesamtmenge\n",
    "p = 0.15 # Eintrittswarscheinlichkeit\n",
    "\n",
    "# Für genau k versuche:\n",
    "exact = binom.pmf(k, n, p)\n",
    "print(f'exactly {k}: {round(exact,4)}')\n",
    "\n",
    "# Für k oder weniger versuche:\n",
    "fewer = binom.cdf(k, n, p)\n",
    "print(f'{k} or fewer: {round(fewer,4)}')\n",
    "\n",
    "# Für mehr als k versuche:\n",
    "more = 1 - binom.cdf(k, n, p)\n",
    "print(f'more than {k}: {round(more,4)}')\n",
    "\n",
    "# Ertwartungswert: E(X)\n",
    "print(f'Ertwartungswert: {n*p}') \n",
    "\n",
    "# Varianz: Var(X)\n",
    "print(f'Varianz: {round(n*p*(1-p), 4)}')"
   ]
  },
  {
   "cell_type": "code",
   "execution_count": 128,
   "metadata": {},
   "outputs": [
    {
     "output_type": "stream",
     "name": "stdout",
     "text": [
      "exactly 3: 0.1084\n3 or fewer: 0.3859\nmore than 3: 0.6141\nErtwartungswert: 6.6667\nVarianz: 37.7778\n"
     ]
    }
   ],
   "source": [
    "## Geometrische Verteilung\n",
    "\n",
    "k = 3   # Häufigkeit bis Ereigniseintritt\n",
    "p = 0.15 # Eintrittswarscheinlichkeit\n",
    "\n",
    "# Für genau k versuche:\n",
    "exact = geom.pmf(k, p)\n",
    "print(f'exactly {k}: {round(exact,4)}')\n",
    "\n",
    "# Für k oder weniger versuche:\n",
    "fewer = geom.cdf(k, p)\n",
    "print(f'{k} or fewer: {round(fewer,4)}')\n",
    "\n",
    "# Für mehr als k versuche:\n",
    "more = 1 - geom.cdf(k, p)\n",
    "print(f'more than {k}: {round(more,4)}')\n",
    "\n",
    "# Ertwartungswert\n",
    "print(f'Ertwartungswert: {round(1/p,4)}')\n",
    "\n",
    "# Varianz\n",
    "print(f'Varianz: {round((1 - p)/(p*p), 4)}')"
   ]
  },
  {
   "cell_type": "code",
   "execution_count": 134,
   "metadata": {},
   "outputs": [
    {
     "output_type": "stream",
     "name": "stdout",
     "text": [
      "exactly 0 in 10: 0.1491\n0 or fewer from 10: 0.1491\nmore than 0 in 10: 0.8509\nErwartungswert: 1.6667\nVarianz: 1.2838\n"
     ]
    }
   ],
   "source": [
    "## Hypergeometrische Verteilung\n",
    "\n",
    "N = 120   # Grundgesammtheit aller Elemente\n",
    "M = 20   # Menge aller Elemente mit gewisser Eingenschaft\n",
    "n = 10    # Umfang der Stichprobe\n",
    "k = 0    # Gesuchte Anzahl an Elementen mit Eingenschaft (aus der Stichprobe) \n",
    "\n",
    "# Für genau k versuche:\n",
    "exact = hypergeom.pmf(k, N, n, M)\n",
    "print(f'exactly {k} in {n}: {round(exact,4)}')\n",
    "\n",
    "# Für n oder weniger versuche:\n",
    "fewer = hypergeom.cdf(k, N, n, M)\n",
    "print(f'{k} or fewer from {n}: {round(fewer,4)}')\n",
    "\n",
    "# Für mehr als n versuche:\n",
    "more = 1 - hypergeom.cdf(k, N, n, M)\n",
    "print(f'more than {k} in {n}: {round(more,4)}')\n",
    "\n",
    "# Erwartungswert\n",
    "print(f'Erwartungswert: {round(n*M/N,4)}')\n",
    "\n",
    "# Varianz\n",
    "print(f'Varianz: {round(hypergeom.var(N,n,M),4)}')"
   ]
  },
  {
   "cell_type": "code",
   "execution_count": 127,
   "metadata": {},
   "outputs": [
    {
     "output_type": "stream",
     "name": "stdout",
     "text": [
      "exactly 0: 0.0302\n0 or fewer: 0.0302\nmore than 0: 0.9698\nErtwartungswert: 3.5\nVarianz: 3.5\n"
     ]
    }
   ],
   "source": [
    "## Poisson Verteilung\n",
    "\n",
    "k = 0  # Anzahl der Vorkommnisse\n",
    "mu = 3.5 # mu oder lambda ist die rate (z.B Zeit zwischen zwei Ankünften)\n",
    "\n",
    "# Für genau k versuche:\n",
    "exact = poisson.pmf(k, mu)\n",
    "print(f'exactly {k}: {round(exact,4)}')\n",
    "\n",
    "# Für k oder weniger versuche:\n",
    "fewer = poisson.cdf(k, mu)\n",
    "print(f'{k} or fewer: {round(fewer,4)}')\n",
    "\n",
    "# Für mehr als k versuche:\n",
    "more = 1 - poisson.cdf(k, mu)\n",
    "print(f'more than {k}: {round(more,4)}')\n",
    "\n",
    "# Ertwartungswert: E(x)\n",
    "print(f'Ertwartungswert: {mu}')\n",
    "\n",
    "# Varianz: Var(X)\n",
    "print(f'Varianz: {mu}')"
   ]
  },
  {
   "cell_type": "code",
   "execution_count": null,
   "metadata": {},
   "outputs": [],
   "source": []
  }
 ]
}